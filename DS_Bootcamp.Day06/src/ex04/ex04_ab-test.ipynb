{
 "cells": [
  {
   "cell_type": "code",
   "execution_count": 21,
   "id": "95f32df7",
   "metadata": {},
   "outputs": [],
   "source": [
    "import pandas as pd\n",
    "import sqlite3\n",
    "conn = sqlite3.connect('../data/checking-logs.sqlite')\n"
   ]
  },
  {
   "cell_type": "code",
   "execution_count": 22,
   "id": "9faf766f",
   "metadata": {},
   "outputs": [
    {
     "data": {
      "text/plain": [
       "(     time    avg_diff\n",
       " 0   after -100.178032\n",
       " 1  before  -66.679398,\n",
       "      time   avg_diff\n",
       " 0   after -99.803422\n",
       " 1  before -98.467698)"
      ]
     },
     "execution_count": 22,
     "metadata": {},
     "output_type": "execute_result"
    }
   ],
   "source": [
    "ab_query = \"\"\"\n",
    "WITH base AS (\n",
    "    SELECT t.uid,\n",
    "           CASE WHEN t.first_commit_ts < t.first_view_ts THEN 'before' ELSE 'after' END AS time,\n",
    "           (julianday(t.first_commit_ts) - julianday(datetime(d.deadlines,'unixepoch'))) * 24.0 AS diff_hours\n",
    "    FROM {table} t\n",
    "    JOIN deadlines d ON t.labname = d.labs\n",
    "    WHERE t.labname <> 'project1'\n",
    "),\n",
    "filtered AS (\n",
    "    SELECT * \n",
    "    FROM base\n",
    "    WHERE uid IN (\n",
    "        SELECT uid \n",
    "        FROM base\n",
    "        GROUP BY uid\n",
    "        HAVING SUM(time='before') > 0 AND SUM(time='after') > 0\n",
    "    )\n",
    "),\n",
    "uid_avg AS (\n",
    "    SELECT uid, time, AVG(diff_hours) AS uid_avg_diff\n",
    "    FROM filtered\n",
    "    GROUP BY uid, time\n",
    ")\n",
    "SELECT time, AVG(uid_avg_diff) AS avg_diff\n",
    "FROM uid_avg\n",
    "GROUP BY time;\n",
    "\"\"\"\n",
    "test_results    = pd.read_sql(ab_query.format(table='test'),    conn)\n",
    "control_results = pd.read_sql(ab_query.format(table='control'), conn)\n",
    "\n",
    "test_results, control_results\n"
   ]
  },
  {
   "cell_type": "code",
   "execution_count": 23,
   "id": "9ededf9f",
   "metadata": {},
   "outputs": [],
   "source": [
    "conn.close()\n"
   ]
  }
 ],
 "metadata": {
  "kernelspec": {
   "display_name": "Python 3",
   "language": "python",
   "name": "python3"
  },
  "language_info": {
   "codemirror_mode": {
    "name": "ipython",
    "version": 3
   },
   "file_extension": ".py",
   "mimetype": "text/x-python",
   "name": "python",
   "nbconvert_exporter": "python",
   "pygments_lexer": "ipython3",
   "version": "3.12.3"
  }
 },
 "nbformat": 4,
 "nbformat_minor": 5
}
