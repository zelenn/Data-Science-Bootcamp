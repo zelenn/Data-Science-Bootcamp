{
 "cells": [
  {
   "cell_type": "code",
   "execution_count": 28,
   "id": "8f4977f1",
   "metadata": {},
   "outputs": [],
   "source": [
    "import pandas as pd\n",
    "import sqlite3\n",
    "conn = sqlite3.connect('../data/checking-logs.sqlite')\n"
   ]
  },
  {
   "cell_type": "code",
   "execution_count": 29,
   "id": "6484dcf6",
   "metadata": {},
   "outputs": [
    {
     "data": {
      "text/plain": [
       "<sqlite3.Cursor at 0x7ec848d221c0>"
      ]
     },
     "execution_count": 29,
     "metadata": {},
     "output_type": "execute_result"
    }
   ],
   "source": [
    "sql = \"\"\"\n",
    "DROP TABLE IF EXISTS datamart;\n",
    "CREATE TABLE datamart AS\n",
    "WITH first_commits AS (\n",
    "    SELECT uid, labname, MIN(timestamp) AS first_commit_ts\n",
    "    FROM checker\n",
    "    WHERE status='ready'\n",
    "      AND numTrials=1\n",
    "      AND labname IN ('laba04','laba04s','laba05','laba06','laba06s','project1')\n",
    "      AND uid LIKE 'user_%'\n",
    "    GROUP BY uid, labname\n",
    "),\n",
    "first_views AS (\n",
    "    SELECT uid, MIN(datetime) AS first_view_ts\n",
    "    FROM pageviews\n",
    "    WHERE uid LIKE 'user_%'\n",
    "    GROUP BY uid\n",
    ")\n",
    "SELECT fc.uid,\n",
    "       fc.labname,\n",
    "       fc.first_commit_ts,\n",
    "       fv.first_view_ts\n",
    "FROM first_commits fc\n",
    "LEFT JOIN first_views fv ON fc.uid = fv.uid;\n",
    "\"\"\"\n",
    "conn.executescript(sql)\n"
   ]
  },
  {
   "cell_type": "code",
   "execution_count": 30,
   "id": "2b9acd4c",
   "metadata": {},
   "outputs": [
    {
     "data": {
      "text/plain": [
       "(      uid  labname            first_commit_ts              first_view_ts\n",
       " 0  user_1   laba04 2020-04-26 17:06:18.462708 2020-04-26 21:53:59.624136\n",
       " 1  user_1  laba04s 2020-04-26 17:12:11.843671 2020-04-26 21:53:59.624136\n",
       " 2  user_1   laba05 2020-05-02 19:15:18.540185 2020-04-26 21:53:59.624136\n",
       " 3  user_1   laba06 2020-05-17 16:26:35.268534 2020-04-26 21:53:59.624136\n",
       " 4  user_1  laba06s 2020-05-20 12:23:37.289724 2020-04-26 21:53:59.624136,\n",
       "         uid   labname            first_commit_ts                 first_view_ts\n",
       " 12  user_11    laba05 2020-05-03 21:06:55.970293 2020-04-27 00:40:05.761783552\n",
       " 13  user_11  project1 2020-05-03 23:45:33.673409 2020-04-27 00:40:05.761783552\n",
       " 14  user_12    laba04 2020-04-18 17:07:51.767358 2020-04-27 00:40:05.761783552\n",
       " 15  user_12   laba04s 2020-04-26 15:42:38.070593 2020-04-27 00:40:05.761783552\n",
       " 16  user_12    laba05 2020-05-03 08:39:25.174316 2020-04-27 00:40:05.761783552)"
      ]
     },
     "execution_count": 30,
     "metadata": {},
     "output_type": "execute_result"
    }
   ],
   "source": [
    "dm = pd.read_sql(\"SELECT * FROM datamart;\", conn,\n",
    "                 parse_dates=['first_commit_ts','first_view_ts'])\n",
    "\n",
    "test = dm[dm.first_view_ts.notna()].copy()\n",
    "control = dm[dm.first_view_ts.isna()].copy()\n",
    "\n",
    "avg_view = test.first_view_ts.mean()\n",
    "control['first_view_ts'] = avg_view\n",
    "\n",
    "test.to_sql('test', conn, if_exists='replace', index=False)\n",
    "control.to_sql('control', conn, if_exists='replace', index=False)\n",
    "\n",
    "test.head(), control.head()\n"
   ]
  },
  {
   "cell_type": "code",
   "execution_count": null,
   "id": "7e51e006",
   "metadata": {},
   "outputs": [
    {
     "name": "stdout",
     "output_type": "stream",
     "text": [
      "<class 'pandas.core.frame.DataFrame'>\n",
      "RangeIndex: 140 entries, 0 to 139\n",
      "Data columns (total 4 columns):\n",
      " #   Column           Non-Null Count  Dtype         \n",
      "---  ------           --------------  -----         \n",
      " 0   uid              140 non-null    object        \n",
      " 1   labname          140 non-null    object        \n",
      " 2   first_commit_ts  140 non-null    datetime64[ns]\n",
      " 3   first_view_ts    59 non-null     datetime64[ns]\n",
      "dtypes: datetime64[ns](2), object(2)\n",
      "memory usage: 4.5+ KB\n"
     ]
    }
   ],
   "source": [
    "datamart = pd.read_sql(\"SELECT * FROM datamart;\", conn,\n",
    "                       parse_dates=['first_commit_ts', 'first_view_ts'])\n",
    "datamart.info() # в чеклисте опечатки вроде как"
   ]
  },
  {
   "cell_type": "code",
   "execution_count": 32,
   "id": "3e1dcde1",
   "metadata": {},
   "outputs": [],
   "source": [
    "control = pd.io.sql.read_sql('SELECT * FROM control', conn)"
   ]
  },
  {
   "cell_type": "code",
   "execution_count": 33,
   "id": "3dd206c9",
   "metadata": {},
   "outputs": [],
   "source": [
    "test = pd.io.sql.read_sql('SELECT * FROM test', conn)"
   ]
  },
  {
   "cell_type": "code",
   "execution_count": 34,
   "id": "e0a4d142",
   "metadata": {},
   "outputs": [],
   "source": [
    "conn.close()\n"
   ]
  },
  {
   "cell_type": "code",
   "execution_count": 35,
   "id": "0492bff4",
   "metadata": {},
   "outputs": [
    {
     "name": "stdout",
     "output_type": "stream",
     "text": [
      "<class 'pandas.core.frame.DataFrame'>\n",
      "RangeIndex: 59 entries, 0 to 58\n",
      "Data columns (total 4 columns):\n",
      " #   Column           Non-Null Count  Dtype \n",
      "---  ------           --------------  ----- \n",
      " 0   uid              59 non-null     object\n",
      " 1   labname          59 non-null     object\n",
      " 2   first_commit_ts  59 non-null     object\n",
      " 3   first_view_ts    59 non-null     object\n",
      "dtypes: object(4)\n",
      "memory usage: 2.0+ KB\n"
     ]
    }
   ],
   "source": [
    "test.info()"
   ]
  },
  {
   "cell_type": "code",
   "execution_count": 36,
   "id": "5b8b5027",
   "metadata": {},
   "outputs": [
    {
     "name": "stdout",
     "output_type": "stream",
     "text": [
      "<class 'pandas.core.frame.DataFrame'>\n",
      "RangeIndex: 81 entries, 0 to 80\n",
      "Data columns (total 4 columns):\n",
      " #   Column           Non-Null Count  Dtype \n",
      "---  ------           --------------  ----- \n",
      " 0   uid              81 non-null     object\n",
      " 1   labname          81 non-null     object\n",
      " 2   first_commit_ts  81 non-null     object\n",
      " 3   first_view_ts    81 non-null     object\n",
      "dtypes: object(4)\n",
      "memory usage: 2.7+ KB\n"
     ]
    }
   ],
   "source": [
    "control.info()"
   ]
  }
 ],
 "metadata": {
  "kernelspec": {
   "display_name": "Python 3",
   "language": "python",
   "name": "python3"
  },
  "language_info": {
   "codemirror_mode": {
    "name": "ipython",
    "version": 3
   },
   "file_extension": ".py",
   "mimetype": "text/x-python",
   "name": "python",
   "nbconvert_exporter": "python",
   "pygments_lexer": "ipython3",
   "version": "3.12.3"
  }
 },
 "nbformat": 4,
 "nbformat_minor": 5
}
