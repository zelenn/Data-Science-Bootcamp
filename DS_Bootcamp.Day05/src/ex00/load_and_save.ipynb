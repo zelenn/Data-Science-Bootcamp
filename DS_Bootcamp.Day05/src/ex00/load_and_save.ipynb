{
 "cells": [
  {
   "cell_type": "code",
   "execution_count": null,
   "id": "a7a2fb5f",
   "metadata": {},
   "outputs": [],
   "source": [
    "# Exercise 00  —  Load and save\n",
    "# ----------------------------------------------------------\n",
    "import pandas as pd\n",
    "from pathlib import Path\n",
    "\n",
    "DATA_DIR  = Path(\"..\") / \"data\"\n",
    "SRC_FILE  = DATA_DIR / \"feed-views.log\"\n",
    "DST_FILE  = DATA_DIR / \"feed-views-semicolon.log\"\n",
    "\n",
    "df = pd.read_csv(\n",
    "    SRC_FILE,\n",
    "    header=None,\n",
    "    names=[\"datetime\", \"user\"],\n",
    "    index_col=\"datetime\",\n",
    "    sep=\"\\t\",\n",
    "    skiprows=[2, 3],\n",
    "    skipfooter=2,\n",
    "    engine=\"python\",            # нужен для skipfooter\n",
    ")\n",
    "\n",
    "df.index = pd.to_datetime(df.index)\n",
    "df.index.name = \"date_time\"\n",
    "\n",
    "df.to_csv(DST_FILE, sep=\";\")\n",
    "\n"
   ]
  },
  {
   "cell_type": "markdown",
   "id": "2cd0f9dc",
   "metadata": {},
   "source": [
    "тесты:"
   ]
  },
  {
   "cell_type": "code",
   "execution_count": 17,
   "id": "4c04fb4e",
   "metadata": {},
   "outputs": [
    {
     "name": "stdout",
     "output_type": "stream",
     "text": [
      "                              user\n",
      "date_time                         \n",
      "2020-04-17 12:01:08.463179   artem\n",
      "2020-04-17 12:01:23.743946   artem\n",
      "2020-04-17 12:35:52.735016   artem\n",
      "2020-04-17 12:36:21.401412  oksana\n",
      "2020-04-17 12:36:22.023355  oksana \n",
      "                                  user\n",
      "date_time                            \n",
      "2020-05-21 16:36:40.915488  ekaterina\n",
      "2020-05-21 17:49:36.429237      maxim\n",
      "2020-05-21 18:45:20.441142  valentina\n",
      "2020-05-21 23:03:06.457819      maxim\n",
      "2020-05-21 23:23:49.995349      pavel\n"
     ]
    }
   ],
   "source": [
    "print(df.head(), \"\\n\", df.tail())"
   ]
  },
  {
   "cell_type": "code",
   "execution_count": 18,
   "id": "99ab41cd",
   "metadata": {},
   "outputs": [
    {
     "data": {
      "text/plain": [
       "user    1072\n",
       "dtype: int64"
      ]
     },
     "execution_count": 18,
     "metadata": {},
     "output_type": "execute_result"
    }
   ],
   "source": [
    "df.count()"
   ]
  },
  {
   "cell_type": "code",
   "execution_count": 19,
   "id": "c194457e",
   "metadata": {},
   "outputs": [],
   "source": [
    "df2 = pd.read_csv(\"../data/feed-views-semicolon.log\", sep=';')"
   ]
  }
 ],
 "metadata": {
  "kernelspec": {
   "display_name": "Python 3",
   "language": "python",
   "name": "python3"
  },
  "language_info": {
   "codemirror_mode": {
    "name": "ipython",
    "version": 3
   },
   "file_extension": ".py",
   "mimetype": "text/x-python",
   "name": "python",
   "nbconvert_exporter": "python",
   "pygments_lexer": "ipython3",
   "version": "3.12.3"
  }
 },
 "nbformat": 4,
 "nbformat_minor": 5
}
