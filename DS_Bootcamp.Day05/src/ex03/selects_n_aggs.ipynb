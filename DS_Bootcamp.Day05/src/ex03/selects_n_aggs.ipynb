{
 "cells": [
  {
   "cell_type": "code",
   "execution_count": 6,
   "id": "485d909a",
   "metadata": {},
   "outputs": [],
   "source": [
    "# # Exercise 03  —  Selects and aggregations\n",
    "# # ----------------------------------------------------------\n",
    "import pandas as pd\n",
    "from pathlib import Path\n",
    "\n",
    "# 1) Загрузить JSON и сделать индексом CarNumber\n",
    "DATA_DIR   = Path(\"..\") / \"data\"\n",
    "df         = pd.read_json(DATA_DIR / \"auto.json\").set_index(\"CarNumber\")\n",
    "\n",
    "# 2) Селекты\n",
    "\n",
    "# (a) fines > 2100\n",
    "sel1 = df[df[\"Fines\"] > 2100]\n",
    "\n",
    "# (b) fines > 2100  и  refund == 2\n",
    "sel2 = df[(df[\"Fines\"] > 2100) & (df[\"Refund\"] == 2)]\n",
    "\n",
    "# (c) модели в списке ['Focus','Corolla']\n",
    "models = [\"Focus\", \"Corolla\"]\n",
    "sel3 = df[df[\"Model\"].isin(models)]\n",
    "# or\n",
    "# sel3 = df.loc[df[\"Model\"].isin(models)]\n",
    "\n",
    "# (d) конкретные номера\n",
    "nums = [\"Y7689C197RUS\",\"92928M178RUS\",\"7788KT197RUS\",\n",
    "        \"H115YO163RUS\",\"X758HY197RUS\"]\n",
    "sel4 = df.loc[nums]\n",
    "\n",
    "# 3) Агрегации по Make и Model\n",
    "\n",
    "# (a) медиана fines по make\n",
    "median_by_make       = df.groupby(\"Make\")[\"Fines\"].median()\n",
    "\n",
    "# (b) медиана fines по make и model\n",
    "median_by_make_model = df.groupby([\"Make\",\"Model\"])[\"Fines\"].median()\n",
    "\n",
    "# (c) количество записей (size) по make и model\n",
    "count_by_make_model  = df.groupby([\"Make\",\"Model\"])[\"Fines\"].size()\n",
    "\n",
    "# (d) min и max fines по make и model\n",
    "min_max_by_make_model = df.groupby([\"Make\",\"Model\"])[\"Fines\"].agg([\"min\",\"max\"])\n",
    "\n",
    "# (e) стандартное отклонение fines по make и model\n",
    "std_by_make_model    = df.groupby([\"Make\",\"Model\"])[\"Fines\"].std()\n",
    "\n",
    "# 4) Агрегации по CarNumber\n",
    "\n",
    "# (a) номера, отсортированные по количеству штрафов (desc)\n",
    "count_by_car = df[\"Fines\"].groupby(df.index).size().sort_values(ascending=False)\n",
    "\n",
    "# (b) все строки для top‑1 номера по count\n",
    "top1_by_count = count_by_car.index[0]\n",
    "rows_top1_count = df.loc[top1_by_count]\n",
    "\n",
    "# (c) номера, отсортированные по сумме штрафов (desc)\n",
    "sum_by_car = df[\"Fines\"].groupby(df.index).sum().sort_values(ascending=False)\n",
    "\n",
    "# (d) все строки для top‑1 номера по сумме\n",
    "top1_by_sum = sum_by_car.index[0]\n",
    "rows_top1_sum = df.loc[top1_by_sum]\n",
    "\n",
    "# (e) есть ли номера, у которых более одного Model?\n",
    "multi_models = (\n",
    "    df.reset_index()\n",
    "      .groupby(\"CarNumber\")[\"Model\"]\n",
    "      .nunique()\n",
    "      .loc[lambda x: x > 1]\n",
    ")"
   ]
  },
  {
   "cell_type": "markdown",
   "id": "ac17b26f",
   "metadata": {},
   "source": [
    "tests:"
   ]
  },
  {
   "cell_type": "code",
   "execution_count": 7,
   "id": "5e810c2b",
   "metadata": {},
   "outputs": [
    {
     "data": {
      "text/html": [
       "<div>\n",
       "<style scoped>\n",
       "    .dataframe tbody tr th:only-of-type {\n",
       "        vertical-align: middle;\n",
       "    }\n",
       "\n",
       "    .dataframe tbody tr th {\n",
       "        vertical-align: top;\n",
       "    }\n",
       "\n",
       "    .dataframe thead th {\n",
       "        text-align: right;\n",
       "    }\n",
       "</style>\n",
       "<table border=\"1\" class=\"dataframe\">\n",
       "  <thead>\n",
       "    <tr style=\"text-align: right;\">\n",
       "      <th></th>\n",
       "      <th>Refund</th>\n",
       "      <th>Fines</th>\n",
       "      <th>Make</th>\n",
       "      <th>Model</th>\n",
       "    </tr>\n",
       "    <tr>\n",
       "      <th>CarNumber</th>\n",
       "      <th></th>\n",
       "      <th></th>\n",
       "      <th></th>\n",
       "      <th></th>\n",
       "    </tr>\n",
       "  </thead>\n",
       "  <tbody>\n",
       "    <tr>\n",
       "      <th>Y163O8161RUS</th>\n",
       "      <td>2</td>\n",
       "      <td>3200.000000</td>\n",
       "      <td>Ford</td>\n",
       "      <td>Focus</td>\n",
       "    </tr>\n",
       "    <tr>\n",
       "      <th>7184TT36RUS</th>\n",
       "      <td>1</td>\n",
       "      <td>2100.000000</td>\n",
       "      <td>Ford</td>\n",
       "      <td>Focus</td>\n",
       "    </tr>\n",
       "    <tr>\n",
       "      <th>X582HE161RUS</th>\n",
       "      <td>2</td>\n",
       "      <td>2000.000000</td>\n",
       "      <td>Ford</td>\n",
       "      <td>Focus</td>\n",
       "    </tr>\n",
       "    <tr>\n",
       "      <th>92918M178RUS</th>\n",
       "      <td>1</td>\n",
       "      <td>5700.000000</td>\n",
       "      <td>Ford</td>\n",
       "      <td>Focus</td>\n",
       "    </tr>\n",
       "    <tr>\n",
       "      <th>H234YH197RUS</th>\n",
       "      <td>2</td>\n",
       "      <td>6000.000000</td>\n",
       "      <td>Ford</td>\n",
       "      <td>Focus</td>\n",
       "    </tr>\n",
       "    <tr>\n",
       "      <th>...</th>\n",
       "      <td>...</td>\n",
       "      <td>...</td>\n",
       "      <td>...</td>\n",
       "      <td>...</td>\n",
       "    </tr>\n",
       "    <tr>\n",
       "      <th>Y163O8161RUS</th>\n",
       "      <td>2</td>\n",
       "      <td>1600.000000</td>\n",
       "      <td>Ford</td>\n",
       "      <td>Focus</td>\n",
       "    </tr>\n",
       "    <tr>\n",
       "      <th>M0309X197RUS</th>\n",
       "      <td>1</td>\n",
       "      <td>22300.000000</td>\n",
       "      <td>Ford</td>\n",
       "      <td>Focus</td>\n",
       "    </tr>\n",
       "    <tr>\n",
       "      <th>O673E8197RUS</th>\n",
       "      <td>2</td>\n",
       "      <td>600.000000</td>\n",
       "      <td>Ford</td>\n",
       "      <td>Focus</td>\n",
       "    </tr>\n",
       "    <tr>\n",
       "      <th>8610T8154RUS</th>\n",
       "      <td>1</td>\n",
       "      <td>2000.000000</td>\n",
       "      <td>Ford</td>\n",
       "      <td>Focus</td>\n",
       "    </tr>\n",
       "    <tr>\n",
       "      <th>H419XE197RUS</th>\n",
       "      <td>2</td>\n",
       "      <td>8594.586466</td>\n",
       "      <td>Toyota</td>\n",
       "      <td>Corolla</td>\n",
       "    </tr>\n",
       "  </tbody>\n",
       "</table>\n",
       "<p>593 rows × 4 columns</p>\n",
       "</div>"
      ],
      "text/plain": [
       "              Refund         Fines    Make    Model\n",
       "CarNumber                                          \n",
       "Y163O8161RUS       2   3200.000000    Ford    Focus\n",
       "7184TT36RUS        1   2100.000000    Ford    Focus\n",
       "X582HE161RUS       2   2000.000000    Ford    Focus\n",
       "92918M178RUS       1   5700.000000    Ford    Focus\n",
       "H234YH197RUS       2   6000.000000    Ford    Focus\n",
       "...              ...           ...     ...      ...\n",
       "Y163O8161RUS       2   1600.000000    Ford    Focus\n",
       "M0309X197RUS       1  22300.000000    Ford    Focus\n",
       "O673E8197RUS       2    600.000000    Ford    Focus\n",
       "8610T8154RUS       1   2000.000000    Ford    Focus\n",
       "H419XE197RUS       2   8594.586466  Toyota  Corolla\n",
       "\n",
       "[593 rows x 4 columns]"
      ]
     },
     "execution_count": 7,
     "metadata": {},
     "output_type": "execute_result"
    }
   ],
   "source": [
    "df.loc[df[\"Model\"].isin(models)]"
   ]
  },
  {
   "cell_type": "code",
   "execution_count": 8,
   "id": "86589733",
   "metadata": {},
   "outputs": [
    {
     "data": {
      "text/plain": [
       "Make        Model  \n",
       "Ford        Focus      575\n",
       "            Mondeo       6\n",
       "Skoda       Octavia     48\n",
       "Toyota      Camry       16\n",
       "            Corolla     18\n",
       "Volkswagen  Golf        20\n",
       "            Jetta        6\n",
       "            Passat      22\n",
       "            Touareg      5\n",
       "Name: Fines, dtype: int64"
      ]
     },
     "execution_count": 8,
     "metadata": {},
     "output_type": "execute_result"
    }
   ],
   "source": [
    "df.groupby(['Make', 'Model']).agg('Fines').count()"
   ]
  },
  {
   "cell_type": "code",
   "execution_count": 9,
   "id": "a4749604",
   "metadata": {},
   "outputs": [
    {
     "name": "stdout",
     "output_type": "stream",
     "text": [
      "Numbers top3: ['Y7689C197RUS', '92928M178RUS', '7788KT197RUS']\n"
     ]
    }
   ],
   "source": [
    "top3_by_count = count_by_car.head(3)\n",
    "top3_numbers = top3_by_count.index.tolist()\n",
    "print(\"Numbers top3:\", top3_numbers)"
   ]
  },
  {
   "cell_type": "code",
   "execution_count": 10,
   "id": "6e878734",
   "metadata": {},
   "outputs": [
    {
     "name": "stdout",
     "output_type": "stream",
     "text": [
      "Top‑1 car by sum of fines:\n",
      " CarNumber\n",
      "X758HY197RUS    242000.0\n",
      "Name: Fines, dtype: float64\n"
     ]
    }
   ],
   "source": [
    "sum_by_car = df[\"Fines\"].groupby(df.index).sum().sort_values(ascending=False)\n",
    "top1_by_sum = sum_by_car.head(1)\n",
    "print(\"Top‑1 car by sum of fines:\\n\", top1_by_sum)"
   ]
  }
 ],
 "metadata": {
  "kernelspec": {
   "display_name": "Python 3",
   "language": "python",
   "name": "python3"
  },
  "language_info": {
   "codemirror_mode": {
    "name": "ipython",
    "version": 3
   },
   "file_extension": ".py",
   "mimetype": "text/x-python",
   "name": "python",
   "nbconvert_exporter": "python",
   "pygments_lexer": "ipython3",
   "version": "3.12.3"
  }
 },
 "nbformat": 4,
 "nbformat_minor": 5
}
