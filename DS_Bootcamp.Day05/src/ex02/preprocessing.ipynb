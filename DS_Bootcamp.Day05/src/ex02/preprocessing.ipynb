{
 "cells": [
  {
   "cell_type": "code",
   "execution_count": 6,
   "id": "62f8b14a",
   "metadata": {},
   "outputs": [],
   "source": [
    "# Exercise 02  —  Preprocessing\n",
    "# ----------------------------------------------------------\n",
    "import pandas as pd\n",
    "from pathlib import Path\n",
    "\n",
    "DATA_DIR = Path(\"..\") / \"data\"\n",
    "SRC_FILE  = DATA_DIR / \"auto.csv\"\n",
    "\n",
    "auto = pd.read_csv(SRC_FILE, index_col=\"ID\")\n",
    "\n",
    "initial_cnt = auto.count()\n",
    "\n",
    "auto = auto.drop_duplicates(\n",
    "    subset=[\"CarNumber\", \"Make_n_model\", \"Fines\"],\n",
    "    keep=\"last\"\n",
    ")\n",
    "after_dup_cnt = auto.count()\n",
    "\n",
    "na_before = auto.isna().sum()\n",
    "\n",
    "auto = auto.dropna(axis=1, thresh=len(auto) - 500)\n",
    "\n",
    "\n",
    "auto[\"Refund\"] = auto[\"Refund\"].ffill()\n",
    "\n",
    "auto[\"Fines\"] = auto[\"Fines\"].fillna(auto[\"Fines\"].mean())\n",
    "\n",
    "na_after = auto.isna().sum()\n",
    "\n",
    "def split_make_model(s):\n",
    "    parts = s.split(maxsplit=1)\n",
    "    return pd.Series({\n",
    "        \"Make\":  parts[0],\n",
    "        \"Model\": parts[1] if len(parts) > 1 else None\n",
    "    })\n",
    "\n",
    "auto[[\"Make\", \"Model\"]] = auto[\"Make_n_model\"].apply(split_make_model)\n",
    "auto = auto.drop(columns=\"Make_n_model\")\n",
    "\n",
    "DST_JSON = DATA_DIR / \"auto.json\"\n",
    "auto.to_json(\n",
    "    DST_JSON,\n",
    "    orient=\"records\",\n",
    "    indent=2\n",
    ")\n"
   ]
  },
  {
   "cell_type": "markdown",
   "id": "4ea86af6",
   "metadata": {},
   "source": [
    "tests:"
   ]
  },
  {
   "cell_type": "code",
   "execution_count": 7,
   "id": "80b49685",
   "metadata": {},
   "outputs": [],
   "source": [
    "df2 = pd.read_json('../data/auto.json', orient='records')"
   ]
  },
  {
   "cell_type": "code",
   "execution_count": 8,
   "id": "3162ad1f",
   "metadata": {},
   "outputs": [
    {
     "data": {
      "text/plain": [
       "CarNumber    725\n",
       "Refund       725\n",
       "Fines        725\n",
       "Make         725\n",
       "Model        716\n",
       "dtype: int64"
      ]
     },
     "execution_count": 8,
     "metadata": {},
     "output_type": "execute_result"
    }
   ],
   "source": [
    "df2.count()"
   ]
  },
  {
   "cell_type": "code",
   "execution_count": 9,
   "id": "324d8ae1",
   "metadata": {},
   "outputs": [
    {
     "data": {
      "text/plain": [
       "8594.586466165412"
      ]
     },
     "execution_count": 9,
     "metadata": {},
     "output_type": "execute_result"
    }
   ],
   "source": [
    "df2 ['Fines'].mean()"
   ]
  },
  {
   "cell_type": "code",
   "execution_count": 10,
   "id": "313c5c70",
   "metadata": {},
   "outputs": [
    {
     "data": {
      "text/plain": [
       "1.5172413793103448"
      ]
     },
     "execution_count": 10,
     "metadata": {},
     "output_type": "execute_result"
    }
   ],
   "source": [
    "df2 ['Refund'].mean()"
   ]
  }
 ],
 "metadata": {
  "kernelspec": {
   "display_name": "Python 3",
   "language": "python",
   "name": "python3"
  },
  "language_info": {
   "codemirror_mode": {
    "name": "ipython",
    "version": 3
   },
   "file_extension": ".py",
   "mimetype": "text/x-python",
   "name": "python",
   "nbconvert_exporter": "python",
   "pygments_lexer": "ipython3",
   "version": "3.12.3"
  }
 },
 "nbformat": 4,
 "nbformat_minor": 5
}
