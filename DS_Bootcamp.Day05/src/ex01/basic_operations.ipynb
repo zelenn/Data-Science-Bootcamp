{
 "cells": [
  {
   "cell_type": "code",
   "execution_count": 14,
   "id": "f1cc2a47",
   "metadata": {},
   "outputs": [],
   "source": [
    "# Exercise 01  —  Basic operations\n",
    "# ----------------------------------------------------------\n",
    "import pandas as pd\n",
    "from pathlib import Path\n",
    "\n",
    "DATA_DIR = Path(\"..\") / \"data\"\n",
    "VIEWS_FILE = DATA_DIR / \"feed-views.log\"\n",
    "\n",
    "views = pd.read_csv(\n",
    "    VIEWS_FILE,\n",
    "    header=None,\n",
    "    names=[\"datetime\",\"user\"],\n",
    "    sep=\"\\t\",\n",
    "    parse_dates=[\"datetime\"],\n",
    "    dtype={\"user\":\"string\"},\n",
    ")\n",
    "\n",
    "\n",
    "views[\"year\"]   = views[\"datetime\"].dt.year\n",
    "views[\"month\"]  = views[\"datetime\"].dt.month\n",
    "views[\"day\"]    = views[\"datetime\"].dt.day\n",
    "views[\"hour\"]   = views[\"datetime\"].dt.hour\n",
    "views[\"minute\"] = views[\"datetime\"].dt.minute\n",
    "views[\"second\"] = views[\"datetime\"].dt.second\n",
    "\n",
    "bins  = [0, 4, 7, 11, 17, 20, 24]\n",
    "labels = [\n",
    "    \"night\", \"early morning\", \"morning\",\n",
    "    \"afternoon\", \"early evening\", \"evening\"\n",
    "]\n",
    "views[\"daytime\"] = pd.cut(\n",
    "    views[\"hour\"],\n",
    "    bins=bins,\n",
    "    labels=labels,\n",
    "    right=False,\n",
    "    ordered=True\n",
    ")\n",
    "\n",
    "views.set_index(\"user\", inplace=True)\n",
    "\n",
    "total_rows = views.count().iloc[0]\n",
    "by_daytime = views[\"daytime\"].value_counts()\n",
    "\n",
    "views_sorted = views.sort_values(\n",
    "    [\"hour\", \"minute\", \"second\"]\n",
    ")\n",
    "\n",
    "hour_min  = views[\"hour\"].min()\n",
    "hour_max  = views[\"hour\"].max()\n",
    "hour_mode = views[\"hour\"].mode()[0]\n",
    "\n",
    "hour_stats = {\n",
    "    \"min\":  hour_min,\n",
    "    \"max\":  hour_max,\n",
    "    \"mode\": hour_mode\n",
    "}\n",
    "\n",
    "night_max   = views.loc[views[\"daytime\"] == \"night\", \"hour\"].max()\n",
    "night_user  = views_sorted.query(\"daytime == 'night' & hour == @night_max\").index[0]\n",
    "\n",
    "morning_min = views.loc[views[\"daytime\"] == \"morning\", \"hour\"].min()\n",
    "morning_user= views_sorted.query(\"daytime == 'morning' & hour == @morning_min\").index[0]\n",
    "\n",
    "top3_early = views.nsmallest(3, [\"hour\", \"minute\", \"second\"])\n",
    "top3_late  = views.nlargest(3, [\"hour\", \"minute\", \"second\"])\n",
    "\n",
    "desc = views[[\"hour\"]].describe()\n",
    "iqr  = desc.loc[\"75%\",\"hour\"] - desc.loc[\"25%\",\"hour\"]\n",
    "\n"
   ]
  },
  {
   "cell_type": "markdown",
   "id": "01c24fb8",
   "metadata": {},
   "source": [
    "тесты"
   ]
  },
  {
   "cell_type": "code",
   "execution_count": 15,
   "id": "f03db420",
   "metadata": {},
   "outputs": [
    {
     "name": "stdout",
     "output_type": "stream",
     "text": [
      "<class 'pandas.core.frame.DataFrame'>\n",
      "Index: 1076 entries, artem to artem\n",
      "Data columns (total 8 columns):\n",
      " #   Column    Non-Null Count  Dtype         \n",
      "---  ------    --------------  -----         \n",
      " 0   datetime  1076 non-null   datetime64[ns]\n",
      " 1   year      1076 non-null   int32         \n",
      " 2   month     1076 non-null   int32         \n",
      " 3   day       1076 non-null   int32         \n",
      " 4   hour      1076 non-null   int32         \n",
      " 5   minute    1076 non-null   int32         \n",
      " 6   second    1076 non-null   int32         \n",
      " 7   daytime   1076 non-null   category      \n",
      "dtypes: category(1), datetime64[ns](1), int32(6)\n",
      "memory usage: 75.6 KB\n"
     ]
    }
   ],
   "source": [
    "views.info()"
   ]
  },
  {
   "cell_type": "code",
   "execution_count": 16,
   "id": "12779f8f",
   "metadata": {},
   "outputs": [
    {
     "data": {
      "text/plain": [
       "datetime    1076\n",
       "year        1076\n",
       "month       1076\n",
       "day         1076\n",
       "hour        1076\n",
       "minute      1076\n",
       "second      1076\n",
       "daytime     1076\n",
       "dtype: int64"
      ]
     },
     "execution_count": 16,
     "metadata": {},
     "output_type": "execute_result"
    }
   ],
   "source": [
    "views.count()"
   ]
  },
  {
   "cell_type": "code",
   "execution_count": 17,
   "id": "e1e7b8ef",
   "metadata": {},
   "outputs": [
    {
     "data": {
      "text/plain": [
       "daytime\n",
       "evening          509\n",
       "afternoon        252\n",
       "early evening    145\n",
       "night            129\n",
       "morning           36\n",
       "early morning      5\n",
       "Name: count, dtype: int64"
      ]
     },
     "execution_count": 17,
     "metadata": {},
     "output_type": "execute_result"
    }
   ],
   "source": [
    "views.daytime.value_counts()"
   ]
  },
  {
   "cell_type": "code",
   "execution_count": 18,
   "id": "8d728ec4",
   "metadata": {},
   "outputs": [
    {
     "data": {
      "text/plain": [
       "'konstantin'"
      ]
     },
     "execution_count": 18,
     "metadata": {},
     "output_type": "execute_result"
    }
   ],
   "source": [
    "views.loc[views.daytime == 'night'].hour.idxmax()"
   ]
  },
  {
   "cell_type": "code",
   "execution_count": 19,
   "id": "e2280e41",
   "metadata": {},
   "outputs": [
    {
     "data": {
      "text/plain": [
       "'alexander'"
      ]
     },
     "execution_count": 19,
     "metadata": {},
     "output_type": "execute_result"
    }
   ],
   "source": [
    "views.loc[views.daytime == 'morning'].hour.idxmin()"
   ]
  },
  {
   "cell_type": "code",
   "execution_count": 20,
   "id": "0150faa3",
   "metadata": {},
   "outputs": [
    {
     "data": {
      "text/plain": [
       "0    22\n",
       "Name: hour, dtype: int32"
      ]
     },
     "execution_count": 20,
     "metadata": {},
     "output_type": "execute_result"
    }
   ],
   "source": [
    "views.hour.mode()"
   ]
  },
  {
   "cell_type": "code",
   "execution_count": 21,
   "id": "7587d473",
   "metadata": {},
   "outputs": [
    {
     "data": {
      "text/plain": [
       "0    evening\n",
       "Name: daytime, dtype: category\n",
       "Categories (6, object): ['night' < 'early morning' < 'morning' < 'afternoon' < 'early evening' < 'evening']"
      ]
     },
     "execution_count": 21,
     "metadata": {},
     "output_type": "execute_result"
    }
   ],
   "source": [
    "views.daytime.mode()"
   ]
  },
  {
   "cell_type": "code",
   "execution_count": 22,
   "id": "7e88b474",
   "metadata": {},
   "outputs": [
    {
     "data": {
      "text/plain": [
       "9.0"
      ]
     },
     "execution_count": 22,
     "metadata": {},
     "output_type": "execute_result"
    }
   ],
   "source": [
    "iqr"
   ]
  }
 ],
 "metadata": {
  "kernelspec": {
   "display_name": "Python 3",
   "language": "python",
   "name": "python3"
  },
  "language_info": {
   "codemirror_mode": {
    "name": "ipython",
    "version": 3
   },
   "file_extension": ".py",
   "mimetype": "text/x-python",
   "name": "python",
   "nbconvert_exporter": "python",
   "pygments_lexer": "ipython3",
   "version": "3.12.3"
  }
 },
 "nbformat": 4,
 "nbformat_minor": 5
}
