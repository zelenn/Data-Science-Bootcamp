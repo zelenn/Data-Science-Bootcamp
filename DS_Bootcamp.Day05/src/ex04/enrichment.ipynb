{
 "cells": [
  {
   "cell_type": "code",
   "execution_count": 23,
   "id": "d085830e",
   "metadata": {},
   "outputs": [],
   "source": [
    "# Exercise 04  —  Enrichment and transformations\n",
    "# ----------------------------------------------------------\n",
    "import pandas as pd\n",
    "import numpy as np\n",
    "from pathlib import Path\n",
    "\n",
    "# фиксируем сид для воспроизводимости\n",
    "np.random.seed(21)\n",
    "\n",
    "DATA_DIR   = Path(\"..\") / \"data\"\n",
    "AUTO_JSON  = DATA_DIR / \"auto.json\"\n",
    "SURNAME_JS = DATA_DIR / \"surname.json\"\n",
    "\n",
    "# 1) читаем auto.json, floats should be displayed with two decimals\n",
    "fines = pd.read_json(AUTO_JSON)\n",
    "pd.options.display.float_format = \"{:.2f}\".format\n",
    "\n",
    "# 2) sample ×200 (без new CarNumber/Make/Model)\n",
    "sample = fines.sample(n=200, replace=True, random_state=21).reset_index(drop=True)\n",
    "concat_rows = pd.concat([fines, sample], ignore_index=True)\n",
    "\n",
    "# 3) добавляем случайный integer [1980–2019]\n",
    "concat_rows[\"Year\"] = np.random.randint(1980, 2020, size=len(concat_rows))\n",
    "\n",
    "# 4) строим таблицу owners без json/re\n",
    "surnames_df = pd.read_json(SURNAME_JS, orient=\"values\")  # каждая строка — список\n",
    "# из каждой строки берём первый элемент, убираем всё, что не A–Z\n",
    "surname_vals = (\n",
    "    surnames_df[0]\n",
    "    .str.upper()\n",
    "    .str.replace(r\"[^A-Z]\", \"\", regex=True)\n",
    ")\n",
    "# randomly берём по одному SURNAME на каждый уникальный CarNumber (с повторениями)\n",
    "surname_series = surname_vals.sample(\n",
    "    n=concat_rows[\"CarNumber\"].nunique(),\n",
    "    replace=True,\n",
    "    random_state=21\n",
    ").reset_index(drop=True)\n",
    "\n",
    "owners = pd.DataFrame({\n",
    "    \"CarNumber\": concat_rows[\"CarNumber\"].drop_duplicates().values,\n",
    "    \"SURNAME\":   surname_series.values\n",
    "})\n",
    "\n",
    "# 4b) добавляем «нестыковки»\n",
    "extra_rows = pd.DataFrame({\n",
    "    \"CarNumber\": [\"NEW111\",\"NEW222\",\"NEW333\",\"NEW444\",\"NEW555\"],\n",
    "    \"Make\":      [\"Dodge\"]*5,\n",
    "    \"Model\":     [\"Neon\"]*5,\n",
    "    \"Refund\":    [1]*5,\n",
    "    \"Fines\":     [1000]*5,\n",
    "    \"Year\":      [1990]*5\n",
    "})\n",
    "fines_ext = pd.concat([concat_rows, extra_rows], ignore_index=True)\n",
    "\n",
    "owners = owners.iloc[:-20].copy()  # удаляем последние 20\n",
    "owners.loc[len(owners)] = [\"X123ABC\",\"KING\"]\n",
    "owners.loc[len(owners)] = [\"Y456DEF\",\"JONES\"]\n",
    "owners.loc[len(owners)] = [\"Z789GHI\",\"WHITE\"]\n",
    "\n",
    "# 5) четыре типа слияния\n",
    "inner_join = fines_ext.merge(owners, on=\"CarNumber\", how=\"inner\")\n",
    "outer_join = fines_ext.merge(owners, on=\"CarNumber\", how=\"outer\")\n",
    "left_join  = fines_ext.merge(owners, on=\"CarNumber\", how=\"left\")\n",
    "right_join = fines_ext.merge(owners, on=\"CarNumber\", how=\"right\")\n",
    "\n",
    "# 6) Pivot‑table: суммы штрафов по Make/Model × Year\n",
    "pivot = (\n",
    "    fines_ext\n",
    "    .pivot_table(\n",
    "        index=[\"Make\",\"Model\"],\n",
    "        columns=\"Year\",\n",
    "        values=\"Fines\",\n",
    "        aggfunc=\"sum\",\n",
    "        fill_value=0\n",
    "    )\n",
    ")\n",
    "\n",
    "# 7) Сейвим\n",
    "fines_ext.to_csv(DATA_DIR / \"fines.csv\", index=False)\n",
    "owners.to_csv(DATA_DIR / \"owners.csv\", index=False)\n"
   ]
  },
  {
   "cell_type": "markdown",
   "id": "3fcfb29b",
   "metadata": {},
   "source": [
    "тесты:"
   ]
  },
  {
   "cell_type": "code",
   "execution_count": 24,
   "id": "df980183",
   "metadata": {},
   "outputs": [
    {
     "data": {
      "text/plain": [
       "CarNumber    925\n",
       "Refund       925\n",
       "Fines        925\n",
       "Make         925\n",
       "Model        914\n",
       "Year         925\n",
       "dtype: int64"
      ]
     },
     "execution_count": 24,
     "metadata": {},
     "output_type": "execute_result"
    }
   ],
   "source": [
    "concat_rows.count()"
   ]
  },
  {
   "cell_type": "code",
   "execution_count": 25,
   "id": "b0908616",
   "metadata": {},
   "outputs": [
    {
     "data": {
      "text/plain": [
       "CarNumber    725\n",
       "Refund       725\n",
       "Fines        725\n",
       "Make         725\n",
       "Model        716\n",
       "dtype: int64"
      ]
     },
     "execution_count": 25,
     "metadata": {},
     "output_type": "execute_result"
    }
   ],
   "source": [
    "fines.count()"
   ]
  },
  {
   "cell_type": "code",
   "execution_count": 26,
   "id": "976c1753",
   "metadata": {},
   "outputs": [
    {
     "name": "stdout",
     "output_type": "stream",
     "text": [
      "SURNAME clean of []\"?   True\n"
     ]
    }
   ],
   "source": [
    "bad_chars = set(\"[]\\\"\")\n",
    "has_bad = owners[\"SURNAME\"].apply(lambda s: any(ch in s for ch in bad_chars)).any()\n",
    "print(\"SURNAME clean of []\\\"?  \", not has_bad)"
   ]
  },
  {
   "cell_type": "code",
   "execution_count": 27,
   "id": "0b5a4bb6",
   "metadata": {},
   "outputs": [
    {
     "data": {
      "text/plain": [
       "514"
      ]
     },
     "execution_count": 27,
     "metadata": {},
     "output_type": "execute_result"
    }
   ],
   "source": [
    "len(owners) #тут уже после удаления, 514+20-3=531"
   ]
  },
  {
   "cell_type": "code",
   "execution_count": 28,
   "id": "1968e438",
   "metadata": {},
   "outputs": [
    {
     "data": {
      "text/plain": [
       "930"
      ]
     },
     "execution_count": 28,
     "metadata": {},
     "output_type": "execute_result"
    }
   ],
   "source": [
    "len(fines_ext)"
   ]
  },
  {
   "cell_type": "code",
   "execution_count": 29,
   "id": "54200c9b",
   "metadata": {},
   "outputs": [
    {
     "data": {
      "text/plain": [
       "(903, 7)"
      ]
     },
     "execution_count": 29,
     "metadata": {},
     "output_type": "execute_result"
    }
   ],
   "source": [
    "inner_join.shape"
   ]
  },
  {
   "cell_type": "code",
   "execution_count": 30,
   "id": "121ec76c",
   "metadata": {},
   "outputs": [
    {
     "data": {
      "text/plain": [
       "(933, 7)"
      ]
     },
     "execution_count": 30,
     "metadata": {},
     "output_type": "execute_result"
    }
   ],
   "source": [
    "outer_join.shape"
   ]
  },
  {
   "cell_type": "code",
   "execution_count": 31,
   "id": "72c5c954",
   "metadata": {},
   "outputs": [
    {
     "data": {
      "text/plain": [
       "(930, 7)"
      ]
     },
     "execution_count": 31,
     "metadata": {},
     "output_type": "execute_result"
    }
   ],
   "source": [
    "left_join.shape"
   ]
  },
  {
   "cell_type": "code",
   "execution_count": 32,
   "id": "95fd48ef",
   "metadata": {},
   "outputs": [
    {
     "data": {
      "text/plain": [
       "(906, 7)"
      ]
     },
     "execution_count": 32,
     "metadata": {},
     "output_type": "execute_result"
    }
   ],
   "source": [
    "right_join.shape"
   ]
  },
  {
   "cell_type": "code",
   "execution_count": 33,
   "id": "24f566d3",
   "metadata": {},
   "outputs": [
    {
     "name": "stdout",
     "output_type": "stream",
     "text": [
      "Year                   1980      1981      1982     1983      1984      1985  \\\n",
      "Make       Model                                                               \n",
      "Dodge      Neon        0.00      0.00      0.00     0.00      0.00      0.00   \n",
      "Ford       Focus   62394.59 395589.17 140383.76 63100.00 111294.59 189583.76   \n",
      "           Mondeo      0.00      0.00      0.00     0.00      0.00      0.00   \n",
      "Skoda      Octavia 12494.59      0.00   6900.00 11594.59   1200.00  10294.59   \n",
      "Toyota     Camry   18500.00   8594.59      0.00  7200.00      0.00      0.00   \n",
      "           Corolla     0.00      0.00   2000.00     0.00      0.00      0.00   \n",
      "Volkswagen Golf    30900.00      0.00      0.00  8594.59    300.00  24000.00   \n",
      "           Jetta       0.00      0.00      0.00     0.00      0.00      0.00   \n",
      "           Passat      0.00   4600.00      0.00  3200.00  10000.00   5000.00   \n",
      "           Touareg     0.00      0.00      0.00     0.00      0.00   5800.00   \n",
      "\n",
      "Year                   1986      1987     1988      1989  ...      2010  \\\n",
      "Make       Model                                          ...             \n",
      "Dodge      Neon        0.00      0.00     0.00      0.00  ...      0.00   \n",
      "Ford       Focus   88994.59 121900.00 95989.17 115500.00  ... 120183.76   \n",
      "           Mondeo      0.00      0.00     0.00   8600.00  ...      0.00   \n",
      "Skoda      Octavia   600.00  26700.00     0.00  91400.00  ...   3100.00   \n",
      "Toyota     Camry       0.00      0.00     0.00  22400.00  ...      0.00   \n",
      "           Corolla 16000.00   8000.00     0.00   4000.00  ...  24000.00   \n",
      "Volkswagen Golf        0.00   9300.00     0.00   8100.00  ...      0.00   \n",
      "           Jetta       0.00      0.00     0.00      0.00  ...      0.00   \n",
      "           Passat  15000.00  12300.00     0.00      0.00  ...   2800.00   \n",
      "           Touareg     0.00      0.00     0.00      0.00  ...   6300.00   \n",
      "\n",
      "Year                   2011      2012      2013      2014      2015     2016  \\\n",
      "Make       Model                                                               \n",
      "Dodge      Neon        0.00      0.00      0.00      0.00      0.00     0.00   \n",
      "Ford       Focus   86689.17 112700.00 145494.59 158894.59 203694.59 72594.59   \n",
      "           Mondeo      0.00  34400.00      0.00      0.00      0.00 46200.00   \n",
      "Skoda      Octavia   500.00    500.00  13794.59   1900.00  46394.59   300.00   \n",
      "Toyota     Camry       0.00  16094.59      0.00      0.00      0.00 13000.00   \n",
      "           Corolla  8594.59      0.00      0.00      0.00      0.00     0.00   \n",
      "Volkswagen Golf      600.00      0.00   9300.00      0.00   2300.00     0.00   \n",
      "           Jetta       0.00      0.00      0.00      0.00      0.00     0.00   \n",
      "           Passat   3000.00   2000.00    300.00      0.00   9194.59  2100.00   \n",
      "           Touareg     0.00      0.00      0.00   1300.00    500.00     0.00   \n",
      "\n",
      "Year                    2017      2018      2019  \n",
      "Make       Model                                  \n",
      "Dodge      Neon         0.00      0.00      0.00  \n",
      "Ford       Focus   272200.00 285194.59 101100.00  \n",
      "           Mondeo       0.00      0.00      0.00  \n",
      "Skoda      Octavia      0.00 156200.00   9500.00  \n",
      "Toyota     Camry     1000.00  13000.00  18100.00  \n",
      "           Corolla   9600.00      0.00  16000.00  \n",
      "Volkswagen Golf         0.00      0.00      0.00  \n",
      "           Jetta        0.00      0.00      0.00  \n",
      "           Passat       0.00      0.00      0.00  \n",
      "           Touareg      0.00      0.00      0.00  \n",
      "\n",
      "[10 rows x 40 columns]\n"
     ]
    }
   ],
   "source": [
    "print(pivot)"
   ]
  }
 ],
 "metadata": {
  "kernelspec": {
   "display_name": "Python 3",
   "language": "python",
   "name": "python3"
  },
  "language_info": {
   "codemirror_mode": {
    "name": "ipython",
    "version": 3
   },
   "file_extension": ".py",
   "mimetype": "text/x-python",
   "name": "python",
   "nbconvert_exporter": "python",
   "pygments_lexer": "ipython3",
   "version": "3.12.3"
  }
 },
 "nbformat": 4,
 "nbformat_minor": 5
}
