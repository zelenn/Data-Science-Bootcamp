{
 "cells": [
  {
   "cell_type": "code",
   "execution_count": 2,
   "id": "fcb81f0d",
   "metadata": {},
   "outputs": [],
   "source": [
    "# Exercise 05  —  Pandas optimizations\n",
    "# ----------------------------------------------------------\n",
    "import pandas as pd\n",
    "import gc\n",
    "from pathlib import Path\n",
    "\n",
    "DATA_DIR   = Path(\"..\") / \"data\"\n",
    "FINES_FILE = DATA_DIR / \"fines.csv\"\n",
    "\n",
    "df = pd.read_csv(FINES_FILE)"
   ]
  },
  {
   "cell_type": "code",
   "execution_count": 3,
   "id": "f258c5bc",
   "metadata": {},
   "outputs": [],
   "source": [
    "# --- ITERATIONS --------------------------------------------------------------\n",
    "\n",
    "expr = lambda x: (x[\"Fines\"] / x[\"Refund\"]) * x[\"Year\"]\n",
    "\n",
    "def loop_calc(frame):\n",
    "    out = []\n",
    "    for i in range(len(frame)):\n",
    "        row = frame.iloc[i]\n",
    "        out.append(expr(row))\n",
    "    return out"
   ]
  },
  {
   "cell_type": "code",
   "execution_count": 4,
   "id": "068dcc13",
   "metadata": {},
   "outputs": [
    {
     "name": "stdout",
     "output_type": "stream",
     "text": [
      "18.5 ms ± 387 μs per loop (mean ± std. dev. of 7 runs, 100 loops each)\n"
     ]
    }
   ],
   "source": [
    "%%timeit\n",
    "# 1) обычный Python‑loop\n",
    "\n",
    "df[\"metric_loop\"] = loop_calc(df)\n"
   ]
  },
  {
   "cell_type": "code",
   "execution_count": 5,
   "id": "f62d5c5b",
   "metadata": {},
   "outputs": [
    {
     "name": "stdout",
     "output_type": "stream",
     "text": [
      "14.8 ms ± 268 μs per loop (mean ± std. dev. of 7 runs, 100 loops each)\n"
     ]
    }
   ],
   "source": [
    "%%timeit\n",
    "# 2) через iterrows()\n",
    "df[\"metric_iterrows\"] = [expr(row) for _, row in df.iterrows()]"
   ]
  },
  {
   "cell_type": "code",
   "execution_count": 6,
   "id": "cea2b04a",
   "metadata": {},
   "outputs": [
    {
     "name": "stdout",
     "output_type": "stream",
     "text": [
      "3.47 ms ± 42.4 μs per loop (mean ± std. dev. of 7 runs, 100 loops each)\n"
     ]
    }
   ],
   "source": [
    "%%timeit\n",
    "# 3) через apply()\n",
    "df[\"metric_apply\"] = df.apply(expr, axis=1)"
   ]
  },
  {
   "cell_type": "code",
   "execution_count": 7,
   "id": "71dd2036",
   "metadata": {},
   "outputs": [
    {
     "name": "stdout",
     "output_type": "stream",
     "text": [
      "100 μs ± 1.3 μs per loop (mean ± std. dev. of 7 runs, 10,000 loops each)\n"
     ]
    }
   ],
   "source": [
    "%%timeit\n",
    "# 4) через pandas‑векторы\n",
    "df[\"metric_vector\"] = df[\"Fines\"] / df[\"Refund\"] * df[\"Year\"]"
   ]
  },
  {
   "cell_type": "code",
   "execution_count": 8,
   "id": "73434adf",
   "metadata": {},
   "outputs": [
    {
     "name": "stdout",
     "output_type": "stream",
     "text": [
      "197 μs ± 9.62 μs per loop (mean ± std. dev. of 7 runs, 10,000 loops each)\n"
     ]
    }
   ],
   "source": [
    "%%timeit\n",
    "# 5) через pandas‑векторы + .values\n",
    "d = df[\"Fines\"].values / df[\"Refund\"].values * df[\"Year\"].values\n",
    "df[\"metric_vals\"] = d\n",
    "\n",
    "# 5b) колонка strange, сразу в float32\n",
    "df[\"strange\"] = (df[\"Fines\"] / df[\"Refund\"] * df[\"Year\"]).astype(\"float32\")\n"
   ]
  },
  {
   "cell_type": "code",
   "execution_count": 9,
   "id": "498c22f4",
   "metadata": {},
   "outputs": [
    {
     "name": "stdout",
     "output_type": "stream",
     "text": [
      "148 μs ± 3.48 μs per loop (mean ± std. dev. of 7 runs, 10,000 loops each)\n"
     ]
    }
   ],
   "source": [
    "%%timeit\n",
    "# --- INDEXING ---------------------------------------------------------------\n",
    "\n",
    "# 6) поиск без индекса\n",
    "_ = df[df[\"CarNumber\"] == \"O136HO197RUS\"]\n",
    "\n"
   ]
  },
  {
   "cell_type": "code",
   "execution_count": 10,
   "id": "aff6e9af",
   "metadata": {},
   "outputs": [],
   "source": [
    "df_indexed = df.set_index(\"CarNumber\")"
   ]
  },
  {
   "cell_type": "code",
   "execution_count": 11,
   "id": "ab8f69f6",
   "metadata": {},
   "outputs": [
    {
     "name": "stdout",
     "output_type": "stream",
     "text": [
      "30.2 μs ± 317 ns per loop (mean ± std. dev. of 7 runs, 10,000 loops each)\n"
     ]
    }
   ],
   "source": [
    "\n",
    "%%timeit\n",
    "# 7) поиск по индексу\n",
    "_ = df_indexed.loc[\"O136HO197RUS\"]"
   ]
  },
  {
   "cell_type": "code",
   "execution_count": 12,
   "id": "856a042a",
   "metadata": {},
   "outputs": [
    {
     "name": "stdout",
     "output_type": "stream",
     "text": [
      "<class 'pandas.core.frame.DataFrame'>\n",
      "RangeIndex: 930 entries, 0 to 929\n",
      "Data columns (total 7 columns):\n",
      " #   Column     Non-Null Count  Dtype   \n",
      "---  ------     --------------  -----   \n",
      " 0   CarNumber  930 non-null    category\n",
      " 1   Refund     930 non-null    int8    \n",
      " 2   Fines      930 non-null    float32 \n",
      " 3   Make       930 non-null    category\n",
      " 4   Model      919 non-null    category\n",
      " 5   Year       930 non-null    int16   \n",
      " 6   strange    930 non-null    float32 \n",
      "dtypes: category(3), float32(2), int16(1), int8(1)\n",
      "memory usage: 63.3 KB\n"
     ]
    }
   ],
   "source": [
    "# --- DOWNCASTING ------------------------------------------------------------\n",
    "optimized = df[\n",
    "    [\"CarNumber\", \"Refund\", \"Fines\", \"Make\", \"Model\", \"Year\", \"strange\"]\n",
    "].copy()\n",
    "\n",
    "optimized[\"Refund\"] = pd.to_numeric(optimized[\"Refund\"], downcast=\"integer\")\n",
    "optimized[\"Fines\"]  = pd.to_numeric(optimized[\"Fines\"],  downcast=\"float\")\n",
    "optimized[\"Year\"]   = pd.to_numeric(optimized[\"Year\"],   downcast=\"integer\")\n",
    "\n",
    "for col in [\"CarNumber\", \"Make\", \"Model\"]:\n",
    "    optimized[col] = optimized[col].astype(\"category\")\n",
    "\n",
    "optimized.info(memory_usage=\"deep\")"
   ]
  },
  {
   "cell_type": "code",
   "execution_count": 13,
   "id": "a9d87c78",
   "metadata": {},
   "outputs": [
    {
     "name": "stdout",
     "output_type": "stream",
     "text": [
      "\n",
      "After categories:\n",
      "<class 'pandas.core.frame.DataFrame'>\n",
      "RangeIndex: 930 entries, 0 to 929\n",
      "Data columns (total 7 columns):\n",
      " #   Column     Non-Null Count  Dtype   \n",
      "---  ------     --------------  -----   \n",
      " 0   CarNumber  930 non-null    category\n",
      " 1   Refund     930 non-null    int8    \n",
      " 2   Fines      930 non-null    float32 \n",
      " 3   Make       930 non-null    category\n",
      " 4   Model      919 non-null    category\n",
      " 5   Year       930 non-null    int16   \n",
      " 6   strange    930 non-null    float32 \n",
      "dtypes: category(3), float32(2), int16(1), int8(1)\n",
      "memory usage: 63.3 KB\n"
     ]
    }
   ],
   "source": [
    "# --- CATEGORIES -------------------------------------------------------------\n",
    "\n",
    "for col in optimized.select_dtypes(include=\"object\"):\n",
    "    optimized[col] = optimized[col].astype(\"category\")\n",
    "\n",
    "print(\"\\nAfter categories:\")\n",
    "optimized.info(memory_usage=\"deep\")"
   ]
  },
  {
   "cell_type": "code",
   "execution_count": 14,
   "id": "c02006e3",
   "metadata": {},
   "outputs": [
    {
     "data": {
      "text/plain": [
       "0"
      ]
     },
     "execution_count": 14,
     "metadata": {},
     "output_type": "execute_result"
    }
   ],
   "source": [
    "%reset_selective -f df\n",
    "# --- MEMORY CLEAN -----------------------------------------------------------\n",
    "\n",
    "# удаляем df\n",
    "gc.collect()"
   ]
  },
  {
   "cell_type": "markdown",
   "id": "00111d81",
   "metadata": {},
   "source": [
    "tests:"
   ]
  },
  {
   "cell_type": "code",
   "execution_count": null,
   "id": "dec66c64",
   "metadata": {},
   "outputs": [
    {
     "ename": "NameError",
     "evalue": "name 'df' is not defined",
     "output_type": "error",
     "traceback": [
      "\u001b[31m---------------------------------------------------------------------------\u001b[39m",
      "\u001b[31mNameError\u001b[39m                                 Traceback (most recent call last)",
      "\u001b[36mCell\u001b[39m\u001b[36m \u001b[39m\u001b[32mIn[16]\u001b[39m\u001b[32m, line 1\u001b[39m\n\u001b[32m----> \u001b[39m\u001b[32m1\u001b[39m \u001b[43mdf\u001b[49m\n",
      "\u001b[31mNameError\u001b[39m: name 'df' is not defined"
     ]
    }
   ],
   "source": [
    "# df"
   ]
  }
 ],
 "metadata": {
  "kernelspec": {
   "display_name": "Python 3",
   "language": "python",
   "name": "python3"
  },
  "language_info": {
   "codemirror_mode": {
    "name": "ipython",
    "version": 3
   },
   "file_extension": ".py",
   "mimetype": "text/x-python",
   "name": "python",
   "nbconvert_exporter": "python",
   "pygments_lexer": "ipython3",
   "version": "3.12.3"
  }
 },
 "nbformat": 4,
 "nbformat_minor": 5
}
